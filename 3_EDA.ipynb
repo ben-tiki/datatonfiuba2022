{
 "cells": [
  {
   "cell_type": "markdown",
   "metadata": {},
   "source": [
    "### Importar las librerias que se utilizarán"
   ]
  },
  {
   "cell_type": "code",
   "execution_count": 281,
   "metadata": {},
   "outputs": [],
   "source": [
    "# para el análisis de datos\n",
    "import pandas as pd\n",
    "import matplotlib.pyplot as plt"
   ]
  },
  {
   "cell_type": "markdown",
   "metadata": {},
   "source": [
    "### Leer los datasets facilitados"
   ]
  },
  {
   "cell_type": "code",
   "execution_count": 304,
   "metadata": {},
   "outputs": [],
   "source": [
    "cuentas = pd.read_csv(\"clean_datasets//estado_cuentas.csv\", sep=\";\")\n",
    "transacciones = pd.read_csv(\"clean_datasets//transacciones.csv\", sep = \";\", low_memory=False)\n",
    "usuarios = pd.read_csv(\"clean_datasets//usuarios.csv\", sep = \";\")\n",
    "customers = pd.read_csv(\"clean_datasets//customers.csv\", sep = \";\")"
   ]
  },
  {
   "cell_type": "markdown",
   "metadata": {},
   "source": [
    "#### Análisis Exploratorio de Datos - Dataset: Cuentas"
   ]
  },
  {
   "cell_type": "markdown",
   "metadata": {},
   "source": [
    "##### Creación de columnas relevantes al análisis"
   ]
  },
  {
   "cell_type": "code",
   "execution_count": 283,
   "metadata": {},
   "outputs": [],
   "source": [
    "cuentas[\"cripto_acc_created_at\"] = pd.to_datetime(cuentas[\"cripto_acc_created_at\"])\n",
    "cuentas[\"weekday\"] = cuentas[\"cripto_acc_created_at\"].dt.day_name()\n",
    "cuentas[\"hour\"] = cuentas[\"cripto_acc_created_at\"].dt.hour"
   ]
  },
  {
   "cell_type": "code",
   "execution_count": 284,
   "metadata": {},
   "outputs": [
    {
     "data": {
      "text/html": [
       "<div>\n",
       "<style scoped>\n",
       "    .dataframe tbody tr th:only-of-type {\n",
       "        vertical-align: middle;\n",
       "    }\n",
       "\n",
       "    .dataframe tbody tr th {\n",
       "        vertical-align: top;\n",
       "    }\n",
       "\n",
       "    .dataframe thead th {\n",
       "        text-align: right;\n",
       "    }\n",
       "</style>\n",
       "<table border=\"1\" class=\"dataframe\">\n",
       "  <thead>\n",
       "    <tr style=\"text-align: right;\">\n",
       "      <th></th>\n",
       "      <th>cust_id</th>\n",
       "      <th>cripto_acc_status</th>\n",
       "      <th>cripto_acc_created_at</th>\n",
       "      <th>weekday</th>\n",
       "      <th>hour</th>\n",
       "    </tr>\n",
       "  </thead>\n",
       "  <tbody>\n",
       "    <tr>\n",
       "      <th>0</th>\n",
       "      <td>192047</td>\n",
       "      <td>disabled</td>\n",
       "      <td>2021-12-16 11:31:37</td>\n",
       "      <td>Thursday</td>\n",
       "      <td>11</td>\n",
       "    </tr>\n",
       "    <tr>\n",
       "      <th>1</th>\n",
       "      <td>236745</td>\n",
       "      <td>disabled</td>\n",
       "      <td>2021-12-21 14:11:58</td>\n",
       "      <td>Tuesday</td>\n",
       "      <td>14</td>\n",
       "    </tr>\n",
       "    <tr>\n",
       "      <th>2</th>\n",
       "      <td>146948</td>\n",
       "      <td>disabled</td>\n",
       "      <td>2021-12-22 15:56:23</td>\n",
       "      <td>Wednesday</td>\n",
       "      <td>15</td>\n",
       "    </tr>\n",
       "    <tr>\n",
       "      <th>3</th>\n",
       "      <td>139853</td>\n",
       "      <td>disabled</td>\n",
       "      <td>2021-12-12 17:42:13</td>\n",
       "      <td>Sunday</td>\n",
       "      <td>17</td>\n",
       "    </tr>\n",
       "    <tr>\n",
       "      <th>4</th>\n",
       "      <td>230446</td>\n",
       "      <td>disabled</td>\n",
       "      <td>2021-12-14 12:18:26</td>\n",
       "      <td>Tuesday</td>\n",
       "      <td>12</td>\n",
       "    </tr>\n",
       "    <tr>\n",
       "      <th>...</th>\n",
       "      <td>...</td>\n",
       "      <td>...</td>\n",
       "      <td>...</td>\n",
       "      <td>...</td>\n",
       "      <td>...</td>\n",
       "    </tr>\n",
       "    <tr>\n",
       "      <th>61387</th>\n",
       "      <td>173129</td>\n",
       "      <td>investing</td>\n",
       "      <td>2021-12-27 19:12:54</td>\n",
       "      <td>Monday</td>\n",
       "      <td>19</td>\n",
       "    </tr>\n",
       "    <tr>\n",
       "      <th>61388</th>\n",
       "      <td>77677</td>\n",
       "      <td>investing</td>\n",
       "      <td>2021-12-27 12:32:52</td>\n",
       "      <td>Monday</td>\n",
       "      <td>12</td>\n",
       "    </tr>\n",
       "    <tr>\n",
       "      <th>61389</th>\n",
       "      <td>196424</td>\n",
       "      <td>investing</td>\n",
       "      <td>2021-12-27 07:57:10</td>\n",
       "      <td>Monday</td>\n",
       "      <td>7</td>\n",
       "    </tr>\n",
       "    <tr>\n",
       "      <th>61390</th>\n",
       "      <td>157363</td>\n",
       "      <td>investing</td>\n",
       "      <td>2021-12-26 21:29:35</td>\n",
       "      <td>Sunday</td>\n",
       "      <td>21</td>\n",
       "    </tr>\n",
       "    <tr>\n",
       "      <th>61391</th>\n",
       "      <td>59535</td>\n",
       "      <td>investing</td>\n",
       "      <td>2021-12-27 18:58:40</td>\n",
       "      <td>Monday</td>\n",
       "      <td>18</td>\n",
       "    </tr>\n",
       "  </tbody>\n",
       "</table>\n",
       "<p>61392 rows × 5 columns</p>\n",
       "</div>"
      ],
      "text/plain": [
       "       cust_id cripto_acc_status cripto_acc_created_at    weekday  hour\n",
       "0       192047          disabled   2021-12-16 11:31:37   Thursday    11\n",
       "1       236745          disabled   2021-12-21 14:11:58    Tuesday    14\n",
       "2       146948          disabled   2021-12-22 15:56:23  Wednesday    15\n",
       "3       139853          disabled   2021-12-12 17:42:13     Sunday    17\n",
       "4       230446          disabled   2021-12-14 12:18:26    Tuesday    12\n",
       "...        ...               ...                   ...        ...   ...\n",
       "61387   173129         investing   2021-12-27 19:12:54     Monday    19\n",
       "61388    77677         investing   2021-12-27 12:32:52     Monday    12\n",
       "61389   196424         investing   2021-12-27 07:57:10     Monday     7\n",
       "61390   157363         investing   2021-12-26 21:29:35     Sunday    21\n",
       "61391    59535         investing   2021-12-27 18:58:40     Monday    18\n",
       "\n",
       "[61392 rows x 5 columns]"
      ]
     },
     "execution_count": 284,
     "metadata": {},
     "output_type": "execute_result"
    }
   ],
   "source": [
    "#para imprimir el dataframe\n",
    "cuentas"
   ]
  },
  {
   "cell_type": "code",
   "execution_count": 285,
   "metadata": {},
   "outputs": [
    {
     "name": "stdout",
     "output_type": "stream",
     "text": [
      "61390\n",
      "61392\n",
      "Existe un total de 2 valores duplicados\n"
     ]
    }
   ],
   "source": [
    "# para averiguar el número de cuentas únicos\n",
    "print(cuentas[\"cust_id\"].nunique())\n",
    "\n",
    "# para averiguar el numero de cuentas totales\n",
    "print(len(cuentas[\"cust_id\"]))\n",
    "\n",
    "#cantidad de valores duplicados\n",
    "print(\"Existe un total de\", len(cuentas[\"cust_id\"]) - cuentas[\"cust_id\"].nunique(), \"valores duplicados\")"
   ]
  },
  {
   "cell_type": "code",
   "execution_count": 286,
   "metadata": {},
   "outputs": [
    {
     "data": {
      "text/html": [
       "<div>\n",
       "<style scoped>\n",
       "    .dataframe tbody tr th:only-of-type {\n",
       "        vertical-align: middle;\n",
       "    }\n",
       "\n",
       "    .dataframe tbody tr th {\n",
       "        vertical-align: top;\n",
       "    }\n",
       "\n",
       "    .dataframe thead th {\n",
       "        text-align: right;\n",
       "    }\n",
       "</style>\n",
       "<table border=\"1\" class=\"dataframe\">\n",
       "  <thead>\n",
       "    <tr style=\"text-align: right;\">\n",
       "      <th></th>\n",
       "      <th>cust_id</th>\n",
       "      <th>cripto_acc_status</th>\n",
       "      <th>cripto_acc_created_at</th>\n",
       "      <th>weekday</th>\n",
       "      <th>hour</th>\n",
       "      <th>duplicated</th>\n",
       "    </tr>\n",
       "  </thead>\n",
       "  <tbody>\n",
       "    <tr>\n",
       "      <th>4286</th>\n",
       "      <td>3783</td>\n",
       "      <td>investing</td>\n",
       "      <td>2021-12-10 17:05:12</td>\n",
       "      <td>Friday</td>\n",
       "      <td>17</td>\n",
       "      <td>True</td>\n",
       "    </tr>\n",
       "    <tr>\n",
       "      <th>57027</th>\n",
       "      <td>148756</td>\n",
       "      <td>investing</td>\n",
       "      <td>2021-12-11 13:27:11</td>\n",
       "      <td>Saturday</td>\n",
       "      <td>13</td>\n",
       "      <td>True</td>\n",
       "    </tr>\n",
       "  </tbody>\n",
       "</table>\n",
       "</div>"
      ],
      "text/plain": [
       "       cust_id cripto_acc_status cripto_acc_created_at   weekday  hour  \\\n",
       "4286      3783         investing   2021-12-10 17:05:12    Friday    17   \n",
       "57027   148756         investing   2021-12-11 13:27:11  Saturday    13   \n",
       "\n",
       "       duplicated  \n",
       "4286         True  \n",
       "57027        True  "
      ]
     },
     "execution_count": 286,
     "metadata": {},
     "output_type": "execute_result"
    }
   ],
   "source": [
    "# localizamos las cuentas duplicadas\n",
    "cuentas[\"duplicated\"] = cuentas[\"cust_id\"].duplicated()\n",
    "cuentas.loc[cuentas[\"duplicated\"] == True]"
   ]
  },
  {
   "cell_type": "code",
   "execution_count": 287,
   "metadata": {},
   "outputs": [
    {
     "data": {
      "text/html": [
       "<div>\n",
       "<style scoped>\n",
       "    .dataframe tbody tr th:only-of-type {\n",
       "        vertical-align: middle;\n",
       "    }\n",
       "\n",
       "    .dataframe tbody tr th {\n",
       "        vertical-align: top;\n",
       "    }\n",
       "\n",
       "    .dataframe thead th {\n",
       "        text-align: right;\n",
       "    }\n",
       "</style>\n",
       "<table border=\"1\" class=\"dataframe\">\n",
       "  <thead>\n",
       "    <tr style=\"text-align: right;\">\n",
       "      <th></th>\n",
       "      <th>cust_id</th>\n",
       "      <th>cripto_acc_status</th>\n",
       "      <th>cripto_acc_created_at</th>\n",
       "      <th>weekday</th>\n",
       "      <th>hour</th>\n",
       "      <th>duplicated</th>\n",
       "    </tr>\n",
       "  </thead>\n",
       "  <tbody>\n",
       "    <tr>\n",
       "      <th>1609</th>\n",
       "      <td>3783</td>\n",
       "      <td>pending</td>\n",
       "      <td>2021-12-10 17:05:46</td>\n",
       "      <td>Friday</td>\n",
       "      <td>17</td>\n",
       "      <td>False</td>\n",
       "    </tr>\n",
       "    <tr>\n",
       "      <th>1610</th>\n",
       "      <td>148756</td>\n",
       "      <td>pending</td>\n",
       "      <td>2021-12-11 13:27:11</td>\n",
       "      <td>Saturday</td>\n",
       "      <td>13</td>\n",
       "      <td>False</td>\n",
       "    </tr>\n",
       "  </tbody>\n",
       "</table>\n",
       "</div>"
      ],
      "text/plain": [
       "      cust_id cripto_acc_status cripto_acc_created_at   weekday  hour  \\\n",
       "1609     3783           pending   2021-12-10 17:05:46    Friday    17   \n",
       "1610   148756           pending   2021-12-11 13:27:11  Saturday    13   \n",
       "\n",
       "      duplicated  \n",
       "1609       False  \n",
       "1610       False  "
      ]
     },
     "execution_count": 287,
     "metadata": {},
     "output_type": "execute_result"
    }
   ],
   "source": [
    "# localizamos los estatus pendientes\n",
    "cuentas.loc[cuentas[\"cripto_acc_status\"] == \"pending\"]"
   ]
  },
  {
   "cell_type": "markdown",
   "metadata": {},
   "source": [
    "#### Gráficos exploratorios del Dataset"
   ]
  },
  {
   "cell_type": "code",
   "execution_count": 288,
   "metadata": {},
   "outputs": [
    {
     "data": {
      "text/plain": [
       "<AxesSubplot:xlabel='weekday'>"
      ]
     },
     "execution_count": 288,
     "metadata": {},
     "output_type": "execute_result"
    },
    {
     "data": {
      "image/png": "[encoded data removed]",
      "text/plain": [
       "<Figure size 432x288 with 1 Axes>"
      ]
     },
     "metadata": {
      "needs_background": "light"
     },
     "output_type": "display_data"
    }
   ],
   "source": [
    "#en qué día de la semana se crean más cuentas?\n",
    "cuentas.groupby(\"weekday\").count()[\"cust_id\"].sort_values().plot(kind = \"bar\")"
   ]
  },
  {
   "cell_type": "code",
   "execution_count": 289,
   "metadata": {},
   "outputs": [
    {
     "data": {
      "text/plain": [
       "<AxesSubplot:xlabel='hour'>"
      ]
     },
     "execution_count": 289,
     "metadata": {},
     "output_type": "execute_result"
    },
    {
     "data": {
      "image/png": "[encoded data removed]",
      "text/plain": [
       "<Figure size 432x288 with 1 Axes>"
      ]
     },
     "metadata": {
      "needs_background": "light"
     },
     "output_type": "display_data"
    }
   ],
   "source": [
    "# a que hora del día se crean más cuentas?\n",
    "cuentas.groupby(\"hour\").count()[\"cust_id\"].sort_values().plot(kind = \"bar\")"
   ]
  },
  {
   "cell_type": "code",
   "execution_count": 290,
   "metadata": {},
   "outputs": [
    {
     "data": {
      "image/png": "[encoded data removed]",
      "text/plain": [
       "<Figure size 720x720 with 7 Axes>"
      ]
     },
     "metadata": {
      "needs_background": "light"
     },
     "output_type": "display_data"
    }
   ],
   "source": [
    "# create a figure with seven subplots\n",
    "fig, axes = plt.subplots(nrows=7, ncols=1, figsize=(10, 10))\n",
    "\n",
    "# seven ascending shades of blue for the seven days of the week\n",
    "colors = [\"#27408B\", \"#3A5FCD\", \"#4F73D9\", \"#5D8EE3\", \"#6BA6E9\", \"#7ABFEF\", \"#8BD1F5\"]\n",
    "\n",
    "order = [\"Monday\", \"Tuesday\", \"Wednesday\", \"Thursday\", \"Friday\", \"Saturday\", \"Sunday\"]\n",
    "cuentas['weekday'] = pd.Categorical(cuentas['weekday'], order)\n",
    "\n",
    "for weekday, index in zip(cuentas.sort_values(\"weekday\")[\"weekday\"].unique(), range(7)):\n",
    "\n",
    "    plot = cuentas.loc[cuentas[\"weekday\"] == weekday].groupby(\"hour\").count()[\"cust_id\"].plot(kind = \"bar\", color = colors[index])\n",
    "    plot.set_xlabel(f\"{weekday}\")\n",
    "\n",
    "    for spine in plot.spines.values():\n",
    "        spine.set_visible(False)\n",
    "\n",
    "    fig.add_subplot(axes[index])\n",
    "\n",
    "plt.subplots_adjust(hspace=0.7)"
   ]
  },
  {
   "cell_type": "code",
   "execution_count": 291,
   "metadata": {},
   "outputs": [
    {
     "data": {
      "text/plain": [
       "array([<AxesSubplot:ylabel='cust_id'>], dtype=object)"
      ]
     },
     "execution_count": 291,
     "metadata": {},
     "output_type": "execute_result"
    },
    {
     "data": {
      "image/png": "[encoded data removed]",
      "text/plain": [
       "<Figure size 432x288 with 1 Axes>"
      ]
     },
     "metadata": {},
     "output_type": "display_data"
    }
   ],
   "source": [
    "# cuál es la proporción de estados de las cuentas?\n",
    "cuentas.groupby(\"cripto_acc_status\").count()[\"cust_id\"].plot(kind = \"pie\", subplots = True, colors = [\"#000000\", \"#27408B\"])"
   ]
  },
  {
   "cell_type": "markdown",
   "metadata": {},
   "source": [
    "#### Exploratory Data Analysis - Transacciones"
   ]
  },
  {
   "cell_type": "code",
   "execution_count": 292,
   "metadata": {},
   "outputs": [
    {
     "data": {
      "text/html": [
       "<div>\n",
       "<style scoped>\n",
       "    .dataframe tbody tr th:only-of-type {\n",
       "        vertical-align: middle;\n",
       "    }\n",
       "\n",
       "    .dataframe tbody tr th {\n",
       "        vertical-align: top;\n",
       "    }\n",
       "\n",
       "    .dataframe thead th {\n",
       "        text-align: right;\n",
       "    }\n",
       "</style>\n",
       "<table border=\"1\" class=\"dataframe\">\n",
       "  <thead>\n",
       "    <tr style=\"text-align: right;\">\n",
       "      <th></th>\n",
       "      <th>cust_id</th>\n",
       "    </tr>\n",
       "    <tr>\n",
       "      <th>cripto_trx_status_detail</th>\n",
       "      <th></th>\n",
       "    </tr>\n",
       "  </thead>\n",
       "  <tbody>\n",
       "    <tr>\n",
       "      <th>CLEANING_PROCESS</th>\n",
       "      <td>55407</td>\n",
       "    </tr>\n",
       "    <tr>\n",
       "      <th>PAYMENTS_REJECTED</th>\n",
       "      <td>99</td>\n",
       "    </tr>\n",
       "    <tr>\n",
       "      <th>PROVIDER_CONNECTION_ERROR</th>\n",
       "      <td>84</td>\n",
       "    </tr>\n",
       "    <tr>\n",
       "      <th>PAYMENTS_CONNECTION_ERROR</th>\n",
       "      <td>65</td>\n",
       "    </tr>\n",
       "    <tr>\n",
       "      <th>PROVIDER_QUOTE_EXPIRED</th>\n",
       "      <td>15</td>\n",
       "    </tr>\n",
       "    <tr>\n",
       "      <th>KYC_CONNECTION_ERROR</th>\n",
       "      <td>2</td>\n",
       "    </tr>\n",
       "  </tbody>\n",
       "</table>\n",
       "</div>"
      ],
      "text/plain": [
       "                           cust_id\n",
       "cripto_trx_status_detail          \n",
       "CLEANING_PROCESS             55407\n",
       "PAYMENTS_REJECTED               99\n",
       "PROVIDER_CONNECTION_ERROR       84\n",
       "PAYMENTS_CONNECTION_ERROR       65\n",
       "PROVIDER_QUOTE_EXPIRED          15\n",
       "KYC_CONNECTION_ERROR             2"
      ]
     },
     "execution_count": 292,
     "metadata": {},
     "output_type": "execute_result"
    }
   ],
   "source": [
    "# tabla de resumen de razones de error de transacción\n",
    "transacciones.loc[transacciones[\"cripto_trx_status\"] == \"CANCELLED\"].groupby(\"cripto_trx_status_detail\").count()[\"cust_id\"].sort_values(ascending=False).to_frame()"
   ]
  },
  {
   "cell_type": "code",
   "execution_count": 293,
   "metadata": {},
   "outputs": [
    {
     "data": {
      "text/plain": [
       "array([<AxesSubplot:ylabel='cust_id'>], dtype=object)"
      ]
     },
     "execution_count": 293,
     "metadata": {},
     "output_type": "execute_result"
    },
    {
     "data": {
      "image/png": "[encoded data removed]",
      "text/plain": [
       "<Figure size 432x288 with 1 Axes>"
      ]
     },
     "metadata": {},
     "output_type": "display_data"
    }
   ],
   "source": [
    "transacciones.groupby(\"cripto_trx_status\").count()[\"cust_id\"].plot(kind = \"pie\", subplots = True, colors = [\"#808080\", \"#1f77b4\"], legend = True)"
   ]
  },
  {
   "cell_type": "code",
   "execution_count": 294,
   "metadata": {},
   "outputs": [
    {
     "data": {
      "text/plain": [
       "array([<AxesSubplot:ylabel='cust_id'>], dtype=object)"
      ]
     },
     "execution_count": 294,
     "metadata": {},
     "output_type": "execute_result"
    },
    {
     "data": {
      "image/png": "[encoded data removed]",
      "text/plain": [
       "<Figure size 432x288 with 1 Axes>"
      ]
     },
     "metadata": {},
     "output_type": "display_data"
    }
   ],
   "source": [
    "transacciones.groupby(\"cripto_market\").count()[\"cust_id\"].plot(kind = \"pie\", subplots = True, legend = True, colors = [\"#808080\", \"#1f77b4\", \"#A9A9A9\"])\n"
   ]
  },
  {
   "cell_type": "code",
   "execution_count": 310,
   "metadata": {},
   "outputs": [
    {
     "data": {
      "text/plain": [
       "<AxesSubplot:ylabel='Frequency'>"
      ]
     },
     "execution_count": 310,
     "metadata": {},
     "output_type": "execute_result"
    },
    {
     "data": {
      "image/png": "[encoded data removed]",
      "text/plain": [
       "<Figure size 432x288 with 1 Axes>"
      ]
     },
     "metadata": {
      "needs_background": "light"
     },
     "output_type": "display_data"
    }
   ],
   "source": [
    "# cómo se distribuyen las transacciones?\n",
    "transacciones.loc[transacciones[\"cripto_trx_status\"] == \"COMPLETED\"].groupby(\"trx_id\").sum()[\"cripto_trx_total_amount\"].plot(kind = \"hist\", bins = 3)\n"
   ]
  },
  {
   "cell_type": "code",
   "execution_count": 297,
   "metadata": {},
   "outputs": [
    {
     "data": {
      "text/html": [
       "<div>\n",
       "<style scoped>\n",
       "    .dataframe tbody tr th:only-of-type {\n",
       "        vertical-align: middle;\n",
       "    }\n",
       "\n",
       "    .dataframe tbody tr th {\n",
       "        vertical-align: top;\n",
       "    }\n",
       "\n",
       "    .dataframe thead th {\n",
       "        text-align: right;\n",
       "    }\n",
       "</style>\n",
       "<table border=\"1\" class=\"dataframe\">\n",
       "  <thead>\n",
       "    <tr style=\"text-align: right;\">\n",
       "      <th></th>\n",
       "      <th>cripto_trx_total_amount</th>\n",
       "    </tr>\n",
       "    <tr>\n",
       "      <th>cust_id</th>\n",
       "      <th></th>\n",
       "    </tr>\n",
       "  </thead>\n",
       "  <tbody>\n",
       "    <tr>\n",
       "      <th>33407</th>\n",
       "      <td>76000.00</td>\n",
       "    </tr>\n",
       "    <tr>\n",
       "      <th>23914</th>\n",
       "      <td>75857.51</td>\n",
       "    </tr>\n",
       "    <tr>\n",
       "      <th>82729</th>\n",
       "      <td>72000.00</td>\n",
       "    </tr>\n",
       "    <tr>\n",
       "      <th>4716</th>\n",
       "      <td>68100.00</td>\n",
       "    </tr>\n",
       "    <tr>\n",
       "      <th>187539</th>\n",
       "      <td>57814.59</td>\n",
       "    </tr>\n",
       "    <tr>\n",
       "      <th>45992</th>\n",
       "      <td>45095.10</td>\n",
       "    </tr>\n",
       "    <tr>\n",
       "      <th>133</th>\n",
       "      <td>45000.00</td>\n",
       "    </tr>\n",
       "    <tr>\n",
       "      <th>115389</th>\n",
       "      <td>39000.00</td>\n",
       "    </tr>\n",
       "    <tr>\n",
       "      <th>65253</th>\n",
       "      <td>38833.45</td>\n",
       "    </tr>\n",
       "    <tr>\n",
       "      <th>57916</th>\n",
       "      <td>37442.83</td>\n",
       "    </tr>\n",
       "  </tbody>\n",
       "</table>\n",
       "</div>"
      ],
      "text/plain": [
       "         cripto_trx_total_amount\n",
       "cust_id                         \n",
       "33407                   76000.00\n",
       "23914                   75857.51\n",
       "82729                   72000.00\n",
       "4716                    68100.00\n",
       "187539                  57814.59\n",
       "45992                   45095.10\n",
       "133                     45000.00\n",
       "115389                  39000.00\n",
       "65253                   38833.45\n",
       "57916                   37442.83"
      ]
     },
     "execution_count": 297,
     "metadata": {},
     "output_type": "execute_result"
    }
   ],
   "source": [
    "# para filtrar usuarios que compraron más de una vez\n",
    "transacciones_usuarios = transacciones.groupby(\"cust_id\").sum()[\"cripto_trx_total_amount\"].sort_values(ascending = False).to_frame()\n",
    "transacciones_usuarios.head(10)"
   ]
  },
  {
   "cell_type": "code",
   "execution_count": 298,
   "metadata": {},
   "outputs": [
    {
     "data": {
      "text/plain": [
       "0.9607494390944771"
      ]
     },
     "execution_count": 298,
     "metadata": {},
     "output_type": "execute_result"
    }
   ],
   "source": [
    "# el top 20%  de los usuarios representa el 92% de las compras\n",
    "transacciones_usuarios.head(int(len(transacciones)*0.2))[\"cripto_trx_total_amount\"].sum() / transacciones_usuarios[\"cripto_trx_total_amount\"].sum()"
   ]
  },
  {
   "cell_type": "markdown",
   "metadata": {},
   "source": [
    "#### Exploratory Data Analysis - Customers"
   ]
  },
  {
   "cell_type": "code",
   "execution_count": 305,
   "metadata": {},
   "outputs": [
    {
     "data": {
      "text/plain": [
       "<AxesSubplot:xlabel='cus_country'>"
      ]
     },
     "execution_count": 305,
     "metadata": {},
     "output_type": "execute_result"
    },
    {
     "data": {
      "image/png": "[encoded data removed]",
      "text/plain": [
       "<Figure size 432x288 with 1 Axes>"
      ]
     },
     "metadata": {
      "needs_background": "light"
     },
     "output_type": "display_data"
    }
   ],
   "source": [
    "# se investiga los principales mercados de transacciones\n",
    "customers.groupby(\"cus_country\").count()[\"cust_id\"].plot(kind = \"bar\")"
   ]
  },
  {
   "cell_type": "code",
   "execution_count": 309,
   "metadata": {},
   "outputs": [
    {
     "data": {
      "text/plain": [
       "array([<AxesSubplot:ylabel='cust_id'>], dtype=object)"
      ]
     },
     "execution_count": 309,
     "metadata": {},
     "output_type": "execute_result"
    },
    {
     "data": {
      "image/png": "[encoded data removed]",
      "text/plain": [
       "<Figure size 432x288 with 1 Axes>"
      ]
     },
     "metadata": {},
     "output_type": "display_data"
    }
   ],
   "source": [
    "customers.groupby(\"cust_sex\").count()[\"cust_id\"].plot(kind = \"pie\", subplots = True, colors = [\"#808080\", \"#1f77b4\", \"#A9A9A9\"], legend = True)"
   ]
  }
 ],
 "metadata": {
  "kernelspec": {
   "display_name": "Python 3.9.7 64-bit",
   "language": "python",
   "name": "python3"
  },
  "language_info": {
   "codemirror_mode": {
    "name": "ipython",
    "version": 3
   },
   "file_extension": ".py",
   "mimetype": "text/x-python",
   "name": "python",
   "nbconvert_exporter": "python",
   "pygments_lexer": "ipython3",
   "version": "3.9.7"
  },
  "orig_nbformat": 4,
  "vscode": {
   "interpreter": {
    "hash": "db0e05d799ad150ff6f95b13eef15f09568f87966873a3b36fbb1aeeee34a4e4"
   }
  }
 },
 "nbformat": 4,
 "nbformat_minor": 2
}
