{
 "cells": [
  {
   "cell_type": "code",
   "execution_count": 158,
   "metadata": {},
   "outputs": [],
   "source": [
    "import pandas as pd"
   ]
  },
  {
   "cell_type": "markdown",
   "metadata": {},
   "source": [
    "### Cambiando nombre de las columnas, y removiendo registros duplicados"
   ]
  },
  {
   "cell_type": "code",
   "execution_count": 159,
   "metadata": {},
   "outputs": [],
   "source": [
    "transacciones = pd.read_csv(\"provided_datasets\\desafiocripto_transacciones.csv\", sep = ';', low_memory = False)\n",
    "transacciones.drop(columns = ['pay_id', 'SIT_SITE_ID', 'CRIPTO_QUOTE_PROVIDER_NAME', 'CRIPTO_TRX_FEE_CURRENCY', 'PAY_METHOD_OW_ID', 'PAY_OPERATION_TYPE_ID', 'PAY_STATUS_DETAIL_CODE', 'PAY_STATUS_ID'], inplace = True)\n",
    "transacciones.columns = ['trx_id', 'cust_id', 'cripto_market', 'cripto_trx_created_at', 'crypto_trx_from_currency', 'cripto_trx_status', 'cripto_trx_status_detail', 'cripto_trx_to_currency', 'cripto_trx_type', 'cripto_trx_updated_at', 'cripto_trx_expires_at', 'cripto_exchange_rate', 'cripto_trx_fee_amount', 'cripto_trx_from_amount', 'cripto_trx_to_amount', 'cripto_trx_total_amount']"
   ]
  },
  {
   "cell_type": "code",
   "execution_count": 160,
   "metadata": {},
   "outputs": [],
   "source": [
    "## replace commas with dots for every numeric column\n",
    "for col in transacciones.columns:\n",
    "\n",
    "    if transacciones[col].dtype == 'O':\n",
    "        transacciones[col] = transacciones[col].str.replace(',', '.')"
   ]
  },
  {
   "cell_type": "code",
   "execution_count": 161,
   "metadata": {},
   "outputs": [],
   "source": [
    "# se lee el csv de cuentas\n",
    "cuentas = pd.read_csv(\"provided_datasets\\desafiocripto_cuentas.csv\", sep = \";\")\n",
    "# see cambia el nombre de las columnas para que sean mas legibles\n",
    "cuentas.columns = [\"cust_id\", \"cripto_acc_status\", \"cripto_acc_created_at\"]\n",
    "# se eliminar las filas con registros duplicados (el cust_id es único)\n",
    "cuentas.drop_duplicates(subset=['cust_id'], keep = 'last', inplace = True)"
   ]
  },
  {
   "cell_type": "code",
   "execution_count": 162,
   "metadata": {},
   "outputs": [],
   "source": [
    "# se lee el csv de estados de los clientes (provincias de brasil)\n",
    "estados = pd.read_csv(\"provided_datasets\\desafiocripto_usuarios.csv\", sep = \";\")\n",
    "estados.columns = [\"cust_id\", \"cust_sex\", \"cus_province\", \"cust_member_since\"]"
   ]
  },
  {
   "cell_type": "markdown",
   "metadata": {},
   "source": [
    "#### Se hace un merge de ambos dataframes"
   ]
  },
  {
   "cell_type": "code",
   "execution_count": 163,
   "metadata": {},
   "outputs": [],
   "source": [
    "customers = cuentas.merge(estados, on = \"cust_id\", how = \"left\")"
   ]
  },
  {
   "cell_type": "markdown",
   "metadata": {},
   "source": [
    "#### Se hacen cambios para mayor legibilidad del dataframe"
   ]
  },
  {
   "cell_type": "code",
   "execution_count": 164,
   "metadata": {},
   "outputs": [],
   "source": [
    "gender_dictionary = {\"M\": \"male\" ,\"N\": \"unspecified\", \"F\": \"female\"}"
   ]
  },
  {
   "cell_type": "code",
   "execution_count": 165,
   "metadata": {},
   "outputs": [],
   "source": [
    "customers[\"cust_sex\"] = customers[\"cust_sex\"].map(gender_dictionary)"
   ]
  },
  {
   "cell_type": "code",
   "execution_count": 166,
   "metadata": {},
   "outputs": [],
   "source": [
    "diccionario_estados = {'BR-PR': 'Paraná', 'BR-MG': 'Minas Gerais', 'BR-SP': 'São Paulo', 'BR-BA': 'Bahia', 'BR-RN': 'Rio Grande do Norte', 'BR-DF': 'Distrito Federal',\n",
    " 'BR-AM': 'Amazonas', 'BR-ES': 'Espírito Santo', 'BR-MA': 'Maranhão', 'BR-GO': 'Goiás', 'BR-RJ': 'Rio de Janeiro', 'BR-TO': 'Tocantins',\n",
    " 'BR-MT': 'Mato Grosso', 'BR-MS': 'Mato Grosso do Sul', 'BR-SC': 'Santa Catarina', 'BR-RS': 'Rio Grande do Sul', 'BR-PE': 'Pernambuco', 'BR-PB': 'Paraíba', \n",
    " 'BR-CE': 'Ceará', 'BR-PI': 'Piauí', 'BR-SE': 'Sergipe', 'BR-AL': 'Alagoas', 'BR-AP': 'Amapá', 'BR-AC': 'Acre', 'BR-RO': 'Rondônia', 'BR-RR': 'Roraima', 'BR-PA': 'Pará'}"
   ]
  },
  {
   "cell_type": "code",
   "execution_count": 167,
   "metadata": {},
   "outputs": [],
   "source": [
    "customers[\"cus_province\"] = customers[\"cus_province\"].replace(diccionario_estados)\n",
    "customers[\"cus_province\"] = customers[\"cus_province\"].str.lower()"
   ]
  },
  {
   "cell_type": "code",
   "execution_count": 179,
   "metadata": {},
   "outputs": [],
   "source": [
    "customers[\"cus_country\"] = \"BRA\"\n",
    "customers.loc[(~customers[\"cus_province\"].isin([x.lower() for x in diccionario_estados.values()])) & (~customers[\"cus_province\"].isnull()), \"cus_country\"] = \"OTHER\"\n",
    "customers.loc[customers[\"cus_province\"].isnull(), \"cus_country\"] = \"UNDEFINED\"\n"
   ]
  },
  {
   "cell_type": "markdown",
   "metadata": {},
   "source": [
    "### Cambios a Estado Cuentas"
   ]
  },
  {
   "cell_type": "code",
   "execution_count": 169,
   "metadata": {},
   "outputs": [],
   "source": [
    "estado_cuentas = pd.read_csv(\"provided_datasets\\desafiocripto_cuentas.csv\", sep = \";\")"
   ]
  },
  {
   "cell_type": "code",
   "execution_count": 170,
   "metadata": {},
   "outputs": [],
   "source": [
    "estado_cuentas.columns = [\"cust_id\", \"cripto_acc_status\", \"cripto_acc_created_at\"]"
   ]
  },
  {
   "cell_type": "markdown",
   "metadata": {},
   "source": [
    "#### Se exporta la base de datos final"
   ]
  },
  {
   "cell_type": "code",
   "execution_count": 180,
   "metadata": {},
   "outputs": [],
   "source": [
    "customers.to_csv(\"clean_datasets\\\\customers.csv\", sep = \";\", index = False)\n",
    "transacciones.to_csv(\"clean_datasets\\\\transacciones.csv\", sep = \";\", index = False, decimal = \",\")\n",
    "estado_cuentas.to_csv(\"clean_datasets\\\\estado_cuentas.csv\", sep = \";\", index = False)"
   ]
  },
  {
   "cell_type": "code",
   "execution_count": 181,
   "metadata": {},
   "outputs": [],
   "source": [
    "customers = pd.read_csv(\"clean_datasets\\\\customers.csv\", sep = \";\")"
   ]
  }
 ],
 "metadata": {
  "kernelspec": {
   "display_name": "Python 3.9.7 64-bit",
   "language": "python",
   "name": "python3"
  },
  "language_info": {
   "codemirror_mode": {
    "name": "ipython",
    "version": 3
   },
   "file_extension": ".py",
   "mimetype": "text/x-python",
   "name": "python",
   "nbconvert_exporter": "python",
   "pygments_lexer": "ipython3",
   "version": "3.9.7"
  },
  "orig_nbformat": 4,
  "vscode": {
   "interpreter": {
    "hash": "db0e05d799ad150ff6f95b13eef15f09568f87966873a3b36fbb1aeeee34a4e4"
   }
  }
 },
 "nbformat": 4,
 "nbformat_minor": 2
}
